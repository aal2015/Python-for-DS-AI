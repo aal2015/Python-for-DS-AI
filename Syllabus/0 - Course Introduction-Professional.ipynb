{
 "cells": [
  {
   "cell_type": "markdown",
   "metadata": {},
   "source": [
    "# Programming for Data Science and Artificial Intelligence\n",
    "\n",
    "## 0 Course Introduction"
   ]
  },
  {
   "cell_type": "markdown",
   "metadata": {},
   "source": [
    "* My name is **Chaklam**.  Welcome you all!\n",
    "\n",
    "* My email - **chaklam@ait.asia**\n",
    "\n",
    "* All materials can be found on my **Github - https://github.com/chaklam-silpasuwanchai/**.  If you forget, you can also get the link from http://chaklam.com\n",
    "\n",
    "* Google classroom code - **oifq5ak**\n",
    "\n",
    "### Setting up your Python and Jupyter\n",
    "\n",
    "* Setup python and jupyter - **Prerequisites/0 - Installation.md**\n",
    "\n",
    "* CSIM resources - https://puffer.cs.ait.ac.th\n",
    "\n",
    "### Pre-requisites\n",
    "\n",
    "* Have experience in **programming**\n",
    "\n",
    "* Understand basic **math notations**\n",
    "\n",
    "* Can require great amount of **self-study hours**, if you are weak in programming/math\n",
    "\n",
    "\n",
    "### Objective\n",
    "\n",
    "- Understand Python, Numpy, Pandas, Matplotlib, Sklearn\n",
    "\n",
    "- Perform deep learning using PyTorch\n",
    "\n",
    "### Resources\n",
    "\n",
    "* Reference books:\n",
    "    - [GERON] Geron, A. **Hands-On Machine Learning with Scikit-Learn and TensorFlow: Concepts, Tools, and Techniques to Build Intelligent Systems**, 2019 (2nd edition) (https://github.com/ageron/handson-ml2)\n",
    "    - [VANDER] VanderPlas, J. **Python Data Science Handbook: Essential Tools for Working with Data**, 2016 (1st edition) (https://jakevdp.github.io/PythonDataScienceHandbook/)\n",
    "    - [HASTIE] Hastie, T., Tibshirani, R., and Friedman, J. **The Elements of Statistical Learning: Data Mining, Inference, and Prediction**, 2016 (2nd edition) (https://web.stanford.edu/~hastie)\n",
    "    - [WEIDMAN] Weidman, S. **Deep Learning from Scratch: Building with Python from First Principles**, 2019 (1st edition) (https://github.com/SethHWeidman/DLFS_code)\n",
    "    - [CHARU] Charu, C. **Neural Networks and Deep Learning: A Textbook**, 2018 (1st edition)\n",
    "    - [Deisenroth] Deisenroth, M.P., Faisal A.A., Ong, C.S., **Mathematics for Machine Learning**, 2020 (1st edition) (https://mml-book.github.io/book/mml-book.pdf)\n",
    "    \n",
    "* Online resources:\n",
    "    - Python tutorials available online: https://docs.python.org/3/tutorial/\n",
    "    - Jupyter notebook tutorials available online: https://ipython.org/documentation.html\n",
    "    - Numpy tutorials available online:https://numpy.org/doc/stable/\n",
    "    - Pandas tutorials available online: https://pandas.pydata.org/docs/\n",
    "    - Nltk tutorials available online: https://www.nltk.org\n",
    "    - Matplotlib tutorials available online: https://matplotlib.org/contents.html\n",
    "    - Scikit-learn tutorials available online: https://scikit-learn.org/stable/user_guide.html\n",
    "    - Pytorch tutorials available online: https://pytorch.org/tutorials/\n",
    "    - Nice visuals on CNN - https://github.com/vdumoulin/conv_arithmetic"
   ]
  },
  {
   "cell_type": "markdown",
   "metadata": {},
   "source": [
    "### Grading Percentage\n",
    "\n",
    "- Project 25\\%\n",
    "- Quiz 35\\%\n",
    "- Final Exam 40\\%\n",
    "\n",
    "Note: follows gaussian distribution"
   ]
  },
  {
   "cell_type": "markdown",
   "metadata": {},
   "source": [
    "### Course Outline\n",
    "\n",
    "- 1 Intro to Python\n",
    "- 2 Numpy\n",
    "- 3 Pandas\n",
    "- 4 Matplotlib\n",
    "- 5 Sklearn\n",
    "- 6 Workshop - Customer Segmentation\n",
    "- 7 Workshop - Loan Prediction\n",
    "- 8 Workshop - Marketing Analytics\n",
    "- 9 Workshop - Hotel Analytics\n",
    "- 10 Final project presentation\n",
    "- 11 Final Exam"
   ]
  },
  {
   "cell_type": "markdown",
   "metadata": {},
   "source": [
    "### Final\n",
    "\n",
    "* Mid-term and final will be **open book, open internet**, practical exams\n",
    "* No makeup exams are allowed"
   ]
  },
  {
   "cell_type": "markdown",
   "metadata": {},
   "source": [
    "### Final Project\n",
    "\n",
    "\n",
    "#### Topics\n",
    "\n",
    "The scope focuses on the **pipeline of data science** - preprocessing, exploring, splitting, training, validating.\n",
    "\n",
    "#### Group number\n",
    "\n",
    "1 people.\n",
    "\n",
    "#### Submission\n",
    "\n",
    "Upload all your work to github.  Submit the link during the final project.\n",
    "\n",
    "#### Criteria\n",
    "\n",
    "START EARLY!\n",
    "\n",
    "Projects will be evaluated based on:\n",
    "\n",
    "**A**: Valid process, carried out experiments, technically satisfying, shows great understanding\n",
    "\n",
    "**B**: Valid process, carried out experiments\n",
    "\n",
    "**C**: Poorly executed work in general\n",
    "\n",
    "**D**: Couple of hours work / last minute work\n",
    "\n",
    "**F**: Directly copy from internet, e.g., kaggle, github\n",
    "\n",
    "#### Presentation\n",
    "\n",
    "15 minutes to present your project.  Make sure to cover:\n",
    "\n",
    "- Motivation (what is the dataset about)\n",
    "- Related Work (at least 3 research papers)\n",
    "- Experiments (describe what you compare, how you measure)\n",
    "- Discussion  (did you get what you expect, how do you compare with past 3 research papers)\n",
    "- Future Work  (what can you do better)\n",
    "- Demo  (show some demo)"
   ]
  },
  {
   "cell_type": "code",
   "execution_count": null,
   "metadata": {},
   "outputs": [],
   "source": []
  }
 ],
 "metadata": {
  "kernelspec": {
   "display_name": "Python 3",
   "language": "python",
   "name": "python3"
  },
  "language_info": {
   "codemirror_mode": {
    "name": "ipython",
    "version": 3
   },
   "file_extension": ".py",
   "mimetype": "text/x-python",
   "name": "python",
   "nbconvert_exporter": "python",
   "pygments_lexer": "ipython3",
   "version": "3.8.6"
  }
 },
 "nbformat": 4,
 "nbformat_minor": 4
}
